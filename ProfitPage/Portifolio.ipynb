{
 "cells": [
  {
   "cell_type": "code",
   "execution_count": 28,
   "id": "870f2fc3-4bca-45d9-a791-2e502c72102d",
   "metadata": {},
   "outputs": [],
   "source": [
    "import polars as pl\n",
    "from datetime import datetime, timedelta\n",
    "import numpy as np\n",
    "import random\n",
    "\n",
    "np.random.seed(42)\n",
    "random.seed(42)\n",
    "\n",
    "# Datas para os registros\n",
    "datas = [datetime(2023, 1, 1) + timedelta(days=i) for i in range(1000)]\n",
    "\n",
    "# Localizações possíveis e suas coordenadas centrais aproximadas\n",
    "locais_e_coordenadas = {\n",
    "    'São Paulo': (-23.550520, -46.633308),\n",
    "    'Rio de Janeiro': (-22.906847, -43.172896),\n",
    "    'Belo Horizonte': (-19.921734, -43.945095),\n",
    "    'Porto Alegre': (-30.034647, -51.217658),\n",
    "    'Salvador': (-12.977749, -38.501630),\n",
    "    'Manaus': (-3.119028, -60.021731),\n",
    "    'Recife': (-8.047562, -34.877015),\n",
    "    'Curitiba': (-25.428356, -49.273252),\n",
    "    'Goiânia': (-16.686891, -49.264794),\n",
    "    'Fortaleza': (-3.717219, -38.543303),\n",
    "}\n",
    "produtos = ['Produto A', 'Produto B', 'Produto C', 'Produto D', 'Produto E']\n",
    "\n",
    "def gerar_dados_com_locacao(n=1000, variacao_km=300, tipo='compra'):\n",
    "    variacao_grau_lat = variacao_km / 111  # Conversão aproximada de km para graus de latitude\n",
    "    dados = []\n",
    "    for _ in range(n):\n",
    "        produto = random.choice(produtos)\n",
    "        local_nome, (lat_centro, lon_centro) = random.choice(list(locais_e_coordenadas.items()))\n",
    "        # Ajuste na variação para longitude, considerando a latitude\n",
    "        variacao_grau_lon = variacao_km / (111 * np.cos(np.radians(lat_centro)))\n",
    "        \n",
    "        latitude = lat_centro + np.random.uniform(-variacao_grau_lat, variacao_grau_lat)\n",
    "        longitude = lon_centro + np.random.uniform(-variacao_grau_lon, variacao_grau_lon)\n",
    "        data = random.choice(datas)\n",
    "        quantidade = np.random.randint(1, 20)\n",
    "        preco = np.random.uniform(30.0, 400.0)\n",
    "        \n",
    "        if tipo == 'venda':\n",
    "            # Gerar o fator de markup para cada item individualmente\n",
    "            markup_fator = np.random.uniform(1.2, 1.8)\n",
    "            preco *= markup_fator\n",
    "        \n",
    "        dados.append([data, local_nome, latitude, longitude, preco, quantidade, produto])\n",
    "    \n",
    "    colunas = ['Data', 'Local Compra' if tipo == 'compra' else 'Local Venda', 'Latitude', 'Longitude', 'Preço Compra' if tipo == 'compra' else 'Preço Venda', 'Quantidade', 'Produto']\n",
    "    return pl.DataFrame({colunas[i]: [row[i] for row in dados] for i in range(len(colunas))})\n",
    "\n",
    "# Gerar dados de compras e vendas\n",
    "df_compras = gerar_dados_com_locacao(1000, 120, 'compra')\n",
    "df_vendas = gerar_dados_com_locacao(1000, 120, 'venda')\n",
    "\n",
    "# Definir caminhos para os arquivos Parquet\n",
    "caminho_vendas = ''\n",
    "caminho_compras = ''\n",
    "\n",
    "# Salvar os dataframes como arquivos parquet\n",
    "df_vendas.write_parquet(caminho_vendas)\n",
    "df_compras.write_parquet(caminho_compras)\n"
   ]
  },
  {
   "cell_type": "code",
   "execution_count": null,
   "id": "4232dee0-44e9-4cb0-9e7b-997c4655182f",
   "metadata": {},
   "outputs": [],
   "source": []
  }
 ],
 "metadata": {
  "kernelspec": {
   "display_name": "Python 3 (ipykernel)",
   "language": "python",
   "name": "python3"
  },
  "language_info": {
   "codemirror_mode": {
    "name": "ipython",
    "version": 3
   },
   "file_extension": ".py",
   "mimetype": "text/x-python",
   "name": "python",
   "nbconvert_exporter": "python",
   "pygments_lexer": "ipython3",
   "version": "3.11.8"
  },
  "widgets": {
   "application/vnd.jupyter.widget-state+json": {
    "state": {},
    "version_major": 2,
    "version_minor": 0
   }
  }
 },
 "nbformat": 4,
 "nbformat_minor": 5
}
